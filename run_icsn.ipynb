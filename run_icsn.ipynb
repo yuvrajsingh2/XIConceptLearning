{
 "cells": [
  {
   "cell_type": "code",
   "execution_count": 1,
   "metadata": {},
   "outputs": [
    {
     "name": "stdout",
     "output_type": "stream",
     "text": [
      "^C\n"
     ]
    }
   ],
   "source": []
  },
  {
   "cell_type": "markdown",
   "metadata": {},
   "source": []
  },
  {
   "cell_type": "markdown",
   "metadata": {},
   "source": [
    "### Notebook to document and run different iCSN configurations with different datasets\n",
    "\n",
    "##### Change to XIConceptLearning directory\n",
    "\n",
    "##### Important args to consider:\n",
    "```\n",
    "    parser.add_argument('-e', '--epochs', type=int, default=500, help='Number of epochs to train for')\n",
    "    parser.add_argument('--n-workers', type=int, default=0, help='workers to load data')\n",
    "\n",
    "    parser.add_argument('-pv', '--prototype-vectors', type=int , nargs='+', default=[6, 6, 6],\n",
    "                        help='List of number of prototype vectors per category [#p1, #p2, ...]')\n",
    "    parser.add_argument('--n-protos', type=int, default=3,\n",
    "                        help='number of classes per categorical variable, i.e. number of prototypes per group')\n",
    "```\n",
    "0. Default config:\n",
    "    1. python icsn/train_icsn.py \\\n",
    "    --save-step 50 --print-step 1 --learning-rate 0.00004 --batch-size 256 --epochs 500 \\\n",
    "    --seed $SEED \\\n",
    "    --dataset ecr --initials YS --lr-scheduler-warmup-steps 400 \\\n",
    "    --data-dir data/ECR --results-dir icsn/runs/ \\\n",
    "    --exp-name icsn-$SEED-ecr-extradim1 --train-protos \\\n",
    "    --prototype-vectors 6 6 6 \\\n",
    "    --proto-dim 128 --extra-mlp-dim 1 \\\n",
    "    --multiheads --temperature 2. \\\n",
    "    --n-workers 0 --train-protos \\\n",
    "    --temp-scheduler-step 100 --temp-scheduler-rate 0.2\n",
    "\n",
    "1. ECR:\n",
    "    1. python .\\experiments\\ProtoLearning\\train_icsn.py --initials YS --dataset ecr -dd Data  \n",
    "    \\\n",
    "\n",
    "\n",
    "2. dsprites:\n",
    "    1. python .\\experiments\\ProtoLearning\\train_icsn.py --initials YS --dataset dsprites -dd Data -pv 6 6 3\n",
    "\\\n",
    "\n",
    "\n",
    "3. clevr_shape:\n",
    "    1. ```python .\\experiments\\ProtoLearning\\train_icsn.py --initials YS --dataset clevr_shape -dd Data -pv 3 2 8 --train-protos --multiheads --proto-dim 128```\n",
    "    2. ```python .\\experiments\\ProtoLearning\\train_icsn.py --initials YS --dataset clevr_shape -dd Data -pv 3 2 8 --n-protos 3```\n",
    "\\\n",
    "4. clevr_no_shape:\n",
    "    1. ```python .\\experiments\\ProtoLearning\\train_icsn.py --initials YS --dataset clevr_no_shape -dd Data -pv 2 8 --train-protos --multiheads --proto-dim 128```\n"
   ]
  }
 ],
 "metadata": {
  "kernelspec": {
   "display_name": "proto-learning",
   "language": "python",
   "name": "python3"
  },
  "language_info": {
   "codemirror_mode": {
    "name": "ipython",
    "version": 3
   },
   "file_extension": ".py",
   "mimetype": "text/x-python",
   "name": "python",
   "nbconvert_exporter": "python",
   "pygments_lexer": "ipython3",
   "version": "3.8.16"
  },
  "orig_nbformat": 4
 },
 "nbformat": 4,
 "nbformat_minor": 2
}
