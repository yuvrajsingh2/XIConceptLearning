{
 "cells": [
  {
   "cell_type": "code",
   "execution_count": null,
   "metadata": {},
   "outputs": [],
   "source": [
    "import torch\n",
    "import torch.nn as nn\n",
    "\n",
    "# load file 00159.pth\n",
    "model = torch.load('00159.pth')"
   ]
  },
  {
   "cell_type": "code",
   "execution_count": null,
   "metadata": {},
   "outputs": [],
   "source": [
    "ckpt = torch.load(\"00159.pth\", map_location=torch.device('gpu'))\n",
    "cur_epoch = ckpt['ep']\n",
    "_model.load_state_dict(ckpt['model'])\n",
    "_model.proto_dict = ckpt['model_misc']['prototypes']\n",
    "_model.softmax_temp = ckpt['model_misc']['softmax_temp']\n",
    "print(f\"loading from epoch {cur_epoch} for further training\")"
   ]
  }
 ],
 "metadata": {
  "language_info": {
   "name": "python"
  }
 },
 "nbformat": 4,
 "nbformat_minor": 2
}
