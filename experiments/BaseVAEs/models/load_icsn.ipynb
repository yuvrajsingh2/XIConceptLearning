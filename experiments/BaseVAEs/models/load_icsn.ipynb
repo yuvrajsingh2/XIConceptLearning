{
 "cells": [
  {
   "cell_type": "code",
   "execution_count": 6,
   "metadata": {},
   "outputs": [
    {
     "ename": "ModuleNotFoundError",
     "evalue": "No module named 'disent.frameworks.vae.weaklysupervised'",
     "output_type": "error",
     "traceback": [
      "\u001b[1;31m---------------------------------------------------------------------------\u001b[0m",
      "\u001b[1;31mModuleNotFoundError\u001b[0m                       Traceback (most recent call last)",
      "\u001b[1;32mc:\\Users\\yuviu\\Desktop\\Uni Work\\Thesis\\XIConceptLearning\\experiments\\BaseVAEs\\models\\load_icsn.ipynb Cell 1\u001b[0m line \u001b[0;36m3\n\u001b[0;32m      <a href='vscode-notebook-cell:/c%3A/Users/yuviu/Desktop/Uni%20Work/Thesis/XIConceptLearning/experiments/BaseVAEs/models/load_icsn.ipynb#W0sZmlsZQ%3D%3D?line=0'>1</a>\u001b[0m \u001b[39mimport\u001b[39;00m \u001b[39msys\u001b[39;00m\n\u001b[1;32m----> <a href='vscode-notebook-cell:/c%3A/Users/yuviu/Desktop/Uni%20Work/Thesis/XIConceptLearning/experiments/BaseVAEs/models/load_icsn.ipynb#W0sZmlsZQ%3D%3D?line=2'>3</a>\u001b[0m \u001b[39mfrom\u001b[39;00m \u001b[39mdisent\u001b[39;00m\u001b[39m.\u001b[39;00m\u001b[39mframeworks\u001b[39;00m\u001b[39m.\u001b[39;00m\u001b[39mvae\u001b[39;00m\u001b[39m.\u001b[39;00m\u001b[39mweaklysupervised\u001b[39;00m \u001b[39mimport\u001b[39;00m AdaVae, AdaCatVae\n",
      "\u001b[1;31mModuleNotFoundError\u001b[0m: No module named 'disent.frameworks.vae.weaklysupervised'"
     ]
    }
   ],
   "source": [
    "import sys\n",
    "\n",
    "from disent.frameworks.vae.weaklysupervised import AdaVae, AdaCatVae"
   ]
  },
  {
   "cell_type": "code",
   "execution_count": 7,
   "metadata": {},
   "outputs": [
    {
     "name": "stdout",
     "output_type": "stream",
     "text": [
      "C:\\Users\\yuviu\\Desktop\\Uni Work\\Thesis\\XIConceptLearning\\experiments\\BaseVAEs\\models\n",
      "C:\\Users\\yuviu\\Desktop\\Uni Work\\Thesis\\XIConceptLearning\\experiments\\BaseVAEs\\models\\disent\n",
      "c:\\Users\\yuviu\\Desktop\\Uni Work\\Thesis\\XIConceptLearning\\experiments\\BaseVAEs\\models\n",
      "c:\\Users\\yuviu\\anaconda3\\envs\\proto-learning\\python38.zip\n",
      "c:\\Users\\yuviu\\anaconda3\\envs\\proto-learning\\DLLs\n",
      "c:\\Users\\yuviu\\anaconda3\\envs\\proto-learning\\lib\n",
      "c:\\Users\\yuviu\\anaconda3\\envs\\proto-learning\n",
      "\n",
      "c:\\Users\\yuviu\\anaconda3\\envs\\proto-learning\\lib\\site-packages\n",
      "c:\\Users\\yuviu\\anaconda3\\envs\\proto-learning\\lib\\site-packages\\win32\n",
      "c:\\Users\\yuviu\\anaconda3\\envs\\proto-learning\\lib\\site-packages\\win32\\lib\n",
      "c:\\Users\\yuviu\\anaconda3\\envs\\proto-learning\\lib\\site-packages\\Pythonwin\n"
     ]
    }
   ],
   "source": [
    "for p in sys.path:\n",
    "    print(p)"
   ]
  }
 ],
 "metadata": {
  "kernelspec": {
   "display_name": "proto-learning",
   "language": "python",
   "name": "python3"
  },
  "language_info": {
   "codemirror_mode": {
    "name": "ipython",
    "version": 3
   },
   "file_extension": ".py",
   "mimetype": "text/x-python",
   "name": "python",
   "nbconvert_exporter": "python",
   "pygments_lexer": "ipython3",
   "version": "3.8.16"
  }
 },
 "nbformat": 4,
 "nbformat_minor": 2
}
