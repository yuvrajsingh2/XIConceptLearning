{
 "cells": [
  {
   "cell_type": "code",
   "execution_count": 1,
   "metadata": {},
   "outputs": [
    {
     "ename": "ModuleNotFoundError",
     "evalue": "No module named 'ProtoLearning'",
     "output_type": "error",
     "traceback": [
      "\u001b[1;31m---------------------------------------------------------------------------\u001b[0m",
      "\u001b[1;31mModuleNotFoundError\u001b[0m                       Traceback (most recent call last)",
      "\u001b[1;32mc:\\Users\\yuviu\\Desktop\\Uni Work\\Thesis\\XIConceptLearning\\load_icsn.ipynb Cell 1\u001b[0m line \u001b[0;36m1\n\u001b[0;32m     <a href='vscode-notebook-cell:/c%3A/Users/yuviu/Desktop/Uni%20Work/Thesis/XIConceptLearning/load_icsn.ipynb#W0sZmlsZQ%3D%3D?line=15'>16</a>\u001b[0m \u001b[39mimport\u001b[39;00m \u001b[39mexperiments\u001b[39;00m\u001b[39m.\u001b[39;00m\u001b[39mProtoLearning\u001b[39;00m\u001b[39m.\u001b[39;00m\u001b[39mutils\u001b[39;00m \u001b[39mas\u001b[39;00m \u001b[39mutils\u001b[39;00m\n\u001b[0;32m     <a href='vscode-notebook-cell:/c%3A/Users/yuviu/Desktop/Uni%20Work/Thesis/XIConceptLearning/load_icsn.ipynb#W0sZmlsZQ%3D%3D?line=16'>17</a>\u001b[0m \u001b[39mimport\u001b[39;00m \u001b[39mexperiments\u001b[39;00m\u001b[39m.\u001b[39;00m\u001b[39mProtoLearning\u001b[39;00m\u001b[39m.\u001b[39;00m\u001b[39mdata\u001b[39;00m \u001b[39mas\u001b[39;00m \u001b[39mdata\u001b[39;00m\n\u001b[1;32m---> <a href='vscode-notebook-cell:/c%3A/Users/yuviu/Desktop/Uni%20Work/Thesis/XIConceptLearning/load_icsn.ipynb#W0sZmlsZQ%3D%3D?line=17'>18</a>\u001b[0m \u001b[39mfrom\u001b[39;00m \u001b[39mexperiments\u001b[39;00m\u001b[39m.\u001b[39;00m\u001b[39mProtoLearning\u001b[39;00m\u001b[39m.\u001b[39;00m\u001b[39mmodels\u001b[39;00m\u001b[39m.\u001b[39;00m\u001b[39micsn\u001b[39;00m \u001b[39mimport\u001b[39;00m iCSN\n\u001b[0;32m     <a href='vscode-notebook-cell:/c%3A/Users/yuviu/Desktop/Uni%20Work/Thesis/XIConceptLearning/load_icsn.ipynb#W0sZmlsZQ%3D%3D?line=18'>19</a>\u001b[0m \u001b[39mfrom\u001b[39;00m \u001b[39mexperiments\u001b[39;00m\u001b[39m.\u001b[39;00m\u001b[39mProtoLearning\u001b[39;00m\u001b[39m.\u001b[39;00m\u001b[39margs\u001b[39;00m \u001b[39mimport\u001b[39;00m parse_args_as_dict\n",
      "File \u001b[1;32mc:\\Users\\yuviu\\Desktop\\Uni Work\\Thesis\\XIConceptLearning\\experiments\\ProtoLearning\\models\\icsn.py:6\u001b[0m\n\u001b[0;32m      3\u001b[0m \u001b[39mimport\u001b[39;00m \u001b[39mtorch\u001b[39;00m\u001b[39m.\u001b[39;00m\u001b[39mnn\u001b[39;00m\u001b[39m.\u001b[39;00m\u001b[39mfunctional\u001b[39;00m \u001b[39mas\u001b[39;00m \u001b[39mF\u001b[39;00m\n\u001b[0;32m      4\u001b[0m \u001b[39mimport\u001b[39;00m \u001b[39mnumpy\u001b[39;00m \u001b[39mas\u001b[39;00m \u001b[39mnp\u001b[39;00m\n\u001b[1;32m----> 6\u001b[0m \u001b[39mimport\u001b[39;00m \u001b[39mProtoLearning\u001b[39;00m\u001b[39m.\u001b[39;00m\u001b[39mmodels\u001b[39;00m\u001b[39m.\u001b[39;00m\u001b[39mmodules\u001b[39;00m \u001b[39mas\u001b[39;00m \u001b[39mmodules\u001b[39;00m\n\u001b[0;32m      7\u001b[0m \u001b[39mfrom\u001b[39;00m \u001b[39mProtoLearning\u001b[39;00m\u001b[39m.\u001b[39;00m\u001b[39mmodels\u001b[39;00m\u001b[39m.\u001b[39;00m\u001b[39mtorch_truncnorm\u001b[39;00m\u001b[39m.\u001b[39;00m\u001b[39mTruncatedNormal\u001b[39;00m \u001b[39mimport\u001b[39;00m TruncatedNormal\n\u001b[0;32m     10\u001b[0m \u001b[39mclass\u001b[39;00m \u001b[39miCSN\u001b[39;00m(nn\u001b[39m.\u001b[39mModule):\n",
      "\u001b[1;31mModuleNotFoundError\u001b[0m: No module named 'ProtoLearning'"
     ]
    }
   ],
   "source": [
    "import torch\n",
    "import torch.nn.functional as F\n",
    "import numpy as np\n",
    "import time\n",
    "import matplotlib\n",
    "\n",
    "\n",
    "matplotlib.use('Agg')\n",
    "import sys\n",
    "import os\n",
    "# print(os.getcwd())\n",
    "from torch.utils.tensorboard import SummaryWriter\n",
    "from rtpt.rtpt import RTPT\n",
    "from torch.nn.parameter import Parameter\n",
    "\n",
    "import experiments.ProtoLearning.utils as utils\n",
    "import experiments.ProtoLearning.data as data\n",
    "from experiments.ProtoLearning.models.icsn import iCSN\n",
    "from experiments.ProtoLearning.args import parse_args_as_dict\n"
   ]
  },
  {
   "cell_type": "code",
   "execution_count": 2,
   "metadata": {},
   "outputs": [
    {
     "name": "stdout",
     "output_type": "stream",
     "text": [
      "c:\\Users\\yuviu\\Desktop\\Uni Work\\Thesis\\XIConceptLearning\n"
     ]
    }
   ],
   "source": []
  },
  {
   "cell_type": "code",
   "execution_count": null,
   "metadata": {},
   "outputs": [],
   "source": [
    "\n",
    "\n",
    "# load file 00159.pth\n",
    "model = torch.load('00159.pth')\n",
    "model_path = r\"C:\\Users\\yuviu\\Desktop\\Uni Work\\Thesis\\XIConceptLearning\\results\\icsn-clevr-shape-train-proto128\\states\\00499.pth\"\n",
    "ckpt = torch.load(\"00159.pth\", map_location=torch.device('gpu'))\n",
    "cur_epoch = ckpt['ep']\n",
    "_model.load_state_dict(ckpt['model'])\n",
    "_model.proto_dict = ckpt['model_misc']['prototypes']\n",
    "_model.softmax_temp = ckpt['model_misc']['softmax_temp']\n",
    "print(f\"loading from epoch {cur_epoch} for further training\")\n",
    "\n",
    "\n",
    "r\"C:\\Users\\yuviu\\Desktop\\Uni Work\\Thesis\\XIConceptLearning\\results\\icsn-clevr-shape-train-proto128\\states\\00499.pth\""
   ]
  }
 ],
 "metadata": {
  "kernelspec": {
   "display_name": "proto-learning",
   "language": "python",
   "name": "python3"
  },
  "language_info": {
   "codemirror_mode": {
    "name": "ipython",
    "version": 3
   },
   "file_extension": ".py",
   "mimetype": "text/x-python",
   "name": "python",
   "nbconvert_exporter": "python",
   "pygments_lexer": "ipython3",
   "version": "3.8.16"
  }
 },
 "nbformat": 4,
 "nbformat_minor": 2
}
